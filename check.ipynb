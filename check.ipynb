{
 "cells": [
  {
   "cell_type": "code",
   "execution_count": 1,
   "metadata": {},
   "outputs": [],
   "source": [
    "from database import Connection\n",
    "from library import Library\n",
    "from student import Student\n",
    "import uuid\n",
    "import pandas as pd\n",
    "import numpy as np"
   ]
  },
  {
   "cell_type": "code",
   "execution_count": 2,
   "metadata": {},
   "outputs": [
    {
     "name": "stdout",
     "output_type": "stream",
     "text": [
      "Connection is successful\n"
     ]
    }
   ],
   "source": [
    "c=Connection(user='',password='',account='',database='OOPS_SCHOOL',schema='SCHOOL')"
   ]
  },
  {
   "cell_type": "code",
   "execution_count": 17,
   "metadata": {},
   "outputs": [
    {
     "name": "stdout",
     "output_type": "stream",
     "text": [
      "Table Private_table is created\n"
     ]
    }
   ],
   "source": [
    "c.create_table('Private_table','ROLL_NO INT, FIRST_NAME VARCHAR, YEAR DATE')"
   ]
  },
  {
   "cell_type": "code",
   "execution_count": 22,
   "metadata": {},
   "outputs": [
    {
     "name": "stdout",
     "output_type": "stream",
     "text": [
      "Values are inserted in Private_Table\n"
     ]
    }
   ],
   "source": [
    "c.insert_value_in_table('Private_Table',ROLL_NO=1,FIRST_NAME='John',YEAR='2024-12-12')"
   ]
  },
  {
   "cell_type": "code",
   "execution_count": 23,
   "metadata": {},
   "outputs": [
    {
     "name": "stdout",
     "output_type": "stream",
     "text": [
      "Column 'LAST_NAME' added to table 'Private_Table' with data type 'VARCHAR'\n"
     ]
    }
   ],
   "source": [
    "c.add_columns_to_table('Private_Table',{'LAST_NAME':'VARCHAR'})"
   ]
  },
  {
   "cell_type": "code",
   "execution_count": 18,
   "metadata": {},
   "outputs": [],
   "source": [
    "def my_method(**kwargs):\n",
    "    print(kwargs)\n",
    "    print(type(kwargs))"
   ]
  },
  {
   "cell_type": "code",
   "execution_count": 21,
   "metadata": {},
   "outputs": [
    {
     "name": "stdout",
     "output_type": "stream",
     "text": [
      "{'ROLL_NO': 1, 'FIRST_NAME': 'John', 'YEAR': '2024-12-12', 'LAST_NAME': 'Cena', 'Class': 10}\n",
      "<class 'dict'>\n"
     ]
    }
   ],
   "source": [
    "my_method(ROLL_NO=1,FIRST_NAME='John',YEAR='2024-12-12',LAST_NAME='Cena',Class=10)"
   ]
  },
  {
   "cell_type": "code",
   "execution_count": 3,
   "metadata": {},
   "outputs": [],
   "source": [
    "#c.add_columns_to_table('BOOK_RETURN_HISTORY',{'LATE_FEES_AMOUNT':'INT'})"
   ]
  },
  {
   "cell_type": "code",
   "execution_count": 3,
   "metadata": {},
   "outputs": [],
   "source": [
    "l=Library(connection=c)\n",
    "s=Student(connection=c)"
   ]
  },
  {
   "cell_type": "code",
   "execution_count": 5,
   "metadata": {},
   "outputs": [
    {
     "name": "stdout",
     "output_type": "stream",
     "text": [
      "Values are inserted in STUDENT\n"
     ]
    }
   ],
   "source": [
    "s.student_creation(50,'johnny','Bravo',8,'2014')"
   ]
  },
  {
   "cell_type": "code",
   "execution_count": 6,
   "metadata": {},
   "outputs": [
    {
     "data": {
      "text/html": [
       "<div>\n",
       "<style scoped>\n",
       "    .dataframe tbody tr th:only-of-type {\n",
       "        vertical-align: middle;\n",
       "    }\n",
       "\n",
       "    .dataframe tbody tr th {\n",
       "        vertical-align: top;\n",
       "    }\n",
       "\n",
       "    .dataframe thead th {\n",
       "        text-align: right;\n",
       "    }\n",
       "</style>\n",
       "<table border=\"1\" class=\"dataframe\">\n",
       "  <thead>\n",
       "    <tr style=\"text-align: right;\">\n",
       "      <th></th>\n",
       "      <th>ISSUANCE_ID</th>\n",
       "      <th>STUDENT_ID</th>\n",
       "      <th>BOOK_ID</th>\n",
       "      <th>ISSUANCE_DATE</th>\n",
       "      <th>RETURN_DATE</th>\n",
       "      <th>LATE_FEES_AMOUNT</th>\n",
       "    </tr>\n",
       "  </thead>\n",
       "  <tbody>\n",
       "    <tr>\n",
       "      <th>0</th>\n",
       "      <td>501</td>\n",
       "      <td>101</td>\n",
       "      <td>f76fbb04-392e-4095-9615-2e8baf6d1306</td>\n",
       "      <td>2024-06-14</td>\n",
       "      <td>2024-06-21</td>\n",
       "      <td>0</td>\n",
       "    </tr>\n",
       "    <tr>\n",
       "      <th>1</th>\n",
       "      <td>601</td>\n",
       "      <td>703</td>\n",
       "      <td>93653c49-c2d8-49b1-a03f-d1d0d3456cef</td>\n",
       "      <td>2024-06-14</td>\n",
       "      <td>2024-06-21</td>\n",
       "      <td>0</td>\n",
       "    </tr>\n",
       "    <tr>\n",
       "      <th>2</th>\n",
       "      <td>701</td>\n",
       "      <td>702</td>\n",
       "      <td>cada5dc8-0eeb-4686-a972-1efef41d5980</td>\n",
       "      <td>2024-06-01</td>\n",
       "      <td>2024-06-08</td>\n",
       "      <td>90</td>\n",
       "    </tr>\n",
       "  </tbody>\n",
       "</table>\n",
       "</div>"
      ],
      "text/plain": [
       "   ISSUANCE_ID  STUDENT_ID                               BOOK_ID  \\\n",
       "0          501         101  f76fbb04-392e-4095-9615-2e8baf6d1306   \n",
       "1          601         703  93653c49-c2d8-49b1-a03f-d1d0d3456cef   \n",
       "2          701         702  cada5dc8-0eeb-4686-a972-1efef41d5980   \n",
       "\n",
       "  ISSUANCE_DATE RETURN_DATE  LATE_FEES_AMOUNT  \n",
       "0    2024-06-14  2024-06-21                 0  \n",
       "1    2024-06-14  2024-06-21                 0  \n",
       "2    2024-06-01  2024-06-08                90  "
      ]
     },
     "execution_count": 6,
     "metadata": {},
     "output_type": "execute_result"
    }
   ],
   "source": [
    "s.get_all_student_issued_books()"
   ]
  },
  {
   "cell_type": "code",
   "execution_count": 9,
   "metadata": {},
   "outputs": [
    {
     "data": {
      "text/plain": [
       "[('The Story of My Experiments with Truth (સત્યના પ્રયોગો અથવા આત્મકથા)',\n",
       "  '4e7e9807-cd2c-43ba-b8af-69e8044b569a')]"
      ]
     },
     "execution_count": 9,
     "metadata": {},
     "output_type": "execute_result"
    }
   ],
   "source": [
    "l.get_book_id_for_book_selection('Experiments')"
   ]
  },
  {
   "cell_type": "code",
   "execution_count": 10,
   "metadata": {},
   "outputs": [
    {
     "name": "stdout",
     "output_type": "stream",
     "text": [
      "Book picked up successfully\n",
      "Values are inserted in STUDENT_ISSUED_BOOKS\n",
      "Book issuance recorded successfully\n"
     ]
    }
   ],
   "source": [
    "l.book_selection('4e7e9807-cd2c-43ba-b8af-69e8044b569a',102)"
   ]
  },
  {
   "cell_type": "code",
   "execution_count": 12,
   "metadata": {},
   "outputs": [
    {
     "name": "stdout",
     "output_type": "stream",
     "text": [
      "Book returned successfully\n",
      "Record moved to Book Return History table successfully\n",
      "Student deleted from student issued books table successfully\n"
     ]
    }
   ],
   "source": [
    "l.book_returned(702,'cada5dc8-0eeb-4686-a972-1efef41d5980',90)"
   ]
  },
  {
   "cell_type": "code",
   "execution_count": 13,
   "metadata": {},
   "outputs": [
    {
     "data": {
      "text/plain": [
       "[('A Tale of Two Cities', '08aec4ba-5823-41c7-9fcd-ac8ace56413d'),\n",
       " ('Ben-Hur: A Tale of the Christ', 'f518f4f7-fe1e-4cf8-ae2a-584e78e700c6')]"
      ]
     },
     "execution_count": 13,
     "metadata": {},
     "output_type": "execute_result"
    }
   ],
   "source": [
    "l.get_book_id_for_book_selection('A Tale')"
   ]
  },
  {
   "cell_type": "code",
   "execution_count": 14,
   "metadata": {},
   "outputs": [
    {
     "name": "stdout",
     "output_type": "stream",
     "text": [
      "Book picked up successfully\n",
      "Values are inserted in STUDENT_ISSUED_BOOKS\n",
      "Book issuance recorded successfully\n"
     ]
    }
   ],
   "source": [
    "l.book_selection('08aec4ba-5823-41c7-9fcd-ac8ace56413d',101)"
   ]
  },
  {
   "cell_type": "code",
   "execution_count": 15,
   "metadata": {},
   "outputs": [
    {
     "data": {
      "text/html": [
       "<div>\n",
       "<style scoped>\n",
       "    .dataframe tbody tr th:only-of-type {\n",
       "        vertical-align: middle;\n",
       "    }\n",
       "\n",
       "    .dataframe tbody tr th {\n",
       "        vertical-align: top;\n",
       "    }\n",
       "\n",
       "    .dataframe thead th {\n",
       "        text-align: right;\n",
       "    }\n",
       "</style>\n",
       "<table border=\"1\" class=\"dataframe\">\n",
       "  <thead>\n",
       "    <tr style=\"text-align: right;\">\n",
       "      <th></th>\n",
       "      <th>ISSUANCE_ID</th>\n",
       "      <th>STUDENT_ID</th>\n",
       "      <th>BOOK_ID</th>\n",
       "      <th>ISSUANCE_DATE</th>\n",
       "      <th>RETURN_DATE</th>\n",
       "      <th>LATE_FEES_AMOUNT</th>\n",
       "    </tr>\n",
       "  </thead>\n",
       "  <tbody>\n",
       "    <tr>\n",
       "      <th>0</th>\n",
       "      <td>601</td>\n",
       "      <td>703</td>\n",
       "      <td>93653c49-c2d8-49b1-a03f-d1d0d3456cef</td>\n",
       "      <td>2024-06-14</td>\n",
       "      <td>2024-06-21</td>\n",
       "      <td>0</td>\n",
       "    </tr>\n",
       "    <tr>\n",
       "      <th>1</th>\n",
       "      <td>801</td>\n",
       "      <td>102</td>\n",
       "      <td>4e7e9807-cd2c-43ba-b8af-69e8044b569a</td>\n",
       "      <td>2024-06-17</td>\n",
       "      <td>2024-06-24</td>\n",
       "      <td>0</td>\n",
       "    </tr>\n",
       "    <tr>\n",
       "      <th>2</th>\n",
       "      <td>501</td>\n",
       "      <td>101</td>\n",
       "      <td>f76fbb04-392e-4095-9615-2e8baf6d1306</td>\n",
       "      <td>2024-06-03</td>\n",
       "      <td>2024-06-10</td>\n",
       "      <td>70</td>\n",
       "    </tr>\n",
       "    <tr>\n",
       "      <th>3</th>\n",
       "      <td>901</td>\n",
       "      <td>101</td>\n",
       "      <td>08aec4ba-5823-41c7-9fcd-ac8ace56413d</td>\n",
       "      <td>2024-06-03</td>\n",
       "      <td>2024-06-10</td>\n",
       "      <td>70</td>\n",
       "    </tr>\n",
       "  </tbody>\n",
       "</table>\n",
       "</div>"
      ],
      "text/plain": [
       "   ISSUANCE_ID  STUDENT_ID                               BOOK_ID  \\\n",
       "0          601         703  93653c49-c2d8-49b1-a03f-d1d0d3456cef   \n",
       "1          801         102  4e7e9807-cd2c-43ba-b8af-69e8044b569a   \n",
       "2          501         101  f76fbb04-392e-4095-9615-2e8baf6d1306   \n",
       "3          901         101  08aec4ba-5823-41c7-9fcd-ac8ace56413d   \n",
       "\n",
       "  ISSUANCE_DATE RETURN_DATE  LATE_FEES_AMOUNT  \n",
       "0    2024-06-14  2024-06-21                 0  \n",
       "1    2024-06-17  2024-06-24                 0  \n",
       "2    2024-06-03  2024-06-10                70  \n",
       "3    2024-06-03  2024-06-10                70  "
      ]
     },
     "execution_count": 15,
     "metadata": {},
     "output_type": "execute_result"
    }
   ],
   "source": [
    "s.get_all_student_issued_books()"
   ]
  },
  {
   "cell_type": "code",
   "execution_count": 27,
   "metadata": {},
   "outputs": [
    {
     "data": {
      "text/plain": [
       "[('Lolita', 'cada5dc8-0eeb-4686-a972-1efef41d5980')]"
      ]
     },
     "execution_count": 27,
     "metadata": {},
     "output_type": "execute_result"
    }
   ],
   "source": [
    "#l.get_book_id_for_book_selection('Loli')"
   ]
  },
  {
   "cell_type": "code",
   "execution_count": 28,
   "metadata": {},
   "outputs": [
    {
     "name": "stdout",
     "output_type": "stream",
     "text": [
      "Book picked up successfully\n",
      "Values are inserted in STUDENT_ISSUED_BOOKS\n",
      "Book issuance recorded successfully\n"
     ]
    }
   ],
   "source": [
    "#l.book_selection(book_id='cada5dc8-0eeb-4686-a972-1efef41d5980', student_id= 702)"
   ]
  },
  {
   "cell_type": "code",
   "execution_count": 5,
   "metadata": {},
   "outputs": [
    {
     "data": {
      "text/plain": [
       "('Tom', 'ANDREW')"
      ]
     },
     "execution_count": 5,
     "metadata": {},
     "output_type": "execute_result"
    }
   ],
   "source": [
    "#l.get_student_name(student_id=1)"
   ]
  },
  {
   "cell_type": "code",
   "execution_count": 6,
   "metadata": {},
   "outputs": [
    {
     "data": {
      "text/plain": [
       "(\"Harry Potter and the Philosopher's Stone\",)"
      ]
     },
     "execution_count": 6,
     "metadata": {},
     "output_type": "execute_result"
    }
   ],
   "source": [
    "#l.get_book_name(book_id='1da6d1ae-5391-43fb-84ac-062850a0835c')"
   ]
  },
  {
   "cell_type": "code",
   "execution_count": 3,
   "metadata": {},
   "outputs": [
    {
     "name": "stdout",
     "output_type": "stream",
     "text": [
      "Table BOOK_RETURN_HISTORY is created\n"
     ]
    }
   ],
   "source": [
    "#schema = 'RETURN_ID INT AUTOINCREMENT PRIMARY KEY,STUDENT_ID INT, BOOK_ID VARCHAR, BOOK_RETURN_DATE DATE'\n",
    "#c.create_table(tablename='BOOK_RETURN_HISTORY',schema=schema)"
   ]
  },
  {
   "cell_type": "code",
   "execution_count": 9,
   "metadata": {},
   "outputs": [
    {
     "name": "stdout",
     "output_type": "stream",
     "text": [
      "Values are inserted in STUDENT\n"
     ]
    }
   ],
   "source": [
    "#s.student_creation(ROLL_NO=2,FIRST_NAME= 'Danzel',LAST_NAME='Washington',STANDARD=6,STANDARD_YEAR='2010')"
   ]
  },
  {
   "cell_type": "code",
   "execution_count": 13,
   "metadata": {},
   "outputs": [
    {
     "data": {
      "text/html": [
       "<div>\n",
       "<style scoped>\n",
       "    .dataframe tbody tr th:only-of-type {\n",
       "        vertical-align: middle;\n",
       "    }\n",
       "\n",
       "    .dataframe tbody tr th {\n",
       "        vertical-align: top;\n",
       "    }\n",
       "\n",
       "    .dataframe thead th {\n",
       "        text-align: right;\n",
       "    }\n",
       "</style>\n",
       "<table border=\"1\" class=\"dataframe\">\n",
       "  <thead>\n",
       "    <tr style=\"text-align: right;\">\n",
       "      <th></th>\n",
       "      <th>Book</th>\n",
       "      <th>Author(s)</th>\n",
       "      <th>Original language</th>\n",
       "      <th>First published</th>\n",
       "      <th>Approximate sales in millions</th>\n",
       "      <th>Genre</th>\n",
       "    </tr>\n",
       "  </thead>\n",
       "  <tbody>\n",
       "    <tr>\n",
       "      <th>0</th>\n",
       "      <td>A Tale of Two Cities</td>\n",
       "      <td>Charles Dickens</td>\n",
       "      <td>English</td>\n",
       "      <td>1859</td>\n",
       "      <td>200.0</td>\n",
       "      <td>Historical fiction</td>\n",
       "    </tr>\n",
       "    <tr>\n",
       "      <th>1</th>\n",
       "      <td>The Little Prince (Le Petit Prince)</td>\n",
       "      <td>Antoine de Saint-Exupéry</td>\n",
       "      <td>French</td>\n",
       "      <td>1943</td>\n",
       "      <td>200.0</td>\n",
       "      <td>Novella</td>\n",
       "    </tr>\n",
       "    <tr>\n",
       "      <th>2</th>\n",
       "      <td>Harry Potter and the Philosopher's Stone</td>\n",
       "      <td>J. K. Rowling</td>\n",
       "      <td>English</td>\n",
       "      <td>1997</td>\n",
       "      <td>120.0</td>\n",
       "      <td>Fantasy</td>\n",
       "    </tr>\n",
       "  </tbody>\n",
       "</table>\n",
       "</div>"
      ],
      "text/plain": [
       "                                       Book                 Author(s)  \\\n",
       "0                      A Tale of Two Cities           Charles Dickens   \n",
       "1       The Little Prince (Le Petit Prince)  Antoine de Saint-Exupéry   \n",
       "2  Harry Potter and the Philosopher's Stone             J. K. Rowling   \n",
       "\n",
       "  Original language  First published  Approximate sales in millions  \\\n",
       "0           English             1859                          200.0   \n",
       "1            French             1943                          200.0   \n",
       "2           English             1997                          120.0   \n",
       "\n",
       "                Genre  \n",
       "0  Historical fiction  \n",
       "1             Novella  \n",
       "2             Fantasy  "
      ]
     },
     "execution_count": 13,
     "metadata": {},
     "output_type": "execute_result"
    }
   ],
   "source": [
    "#df1=pd.read_csv('best-selling-books.csv')\n",
    "#df1.head(3)"
   ]
  },
  {
   "cell_type": "code",
   "execution_count": 14,
   "metadata": {},
   "outputs": [],
   "source": [
    "#df1_new=df1[['Book']]\n",
    "#df1_new.columns = ['Book_Name']"
   ]
  },
  {
   "cell_type": "code",
   "execution_count": null,
   "metadata": {},
   "outputs": [],
   "source": [
    "#df1_new['Quantity']=np.random.randint(1,13,size=len(df1_new))\n",
    "#df1_new['Book_Id'] = [uuid.uuid4() for _ in range(len(df1_new))]\n",
    "#df1_new['Book_Id'] = df1_new['Book_Id'].astype(str)"
   ]
  },
  {
   "cell_type": "code",
   "execution_count": null,
   "metadata": {},
   "outputs": [],
   "source": [
    "#df1_new = df1_new.rename(columns={'Book_Name': 'BOOK_NAME', 'Quantity': 'BOOK_QUANTITY', 'Book_Id': 'BOOK_ID'})"
   ]
  },
  {
   "cell_type": "code",
   "execution_count": null,
   "metadata": {},
   "outputs": [],
   "source": [
    "#schema = 'BOOK_NAME VARCHAR, BOOK_QUANTITY INT, BOOK_ID VARCHAR PRIMARY KEY'\n",
    "#c.create_table(tablename = 'LIBRARY_BOOKS',schema= schema)"
   ]
  },
  {
   "cell_type": "code",
   "execution_count": null,
   "metadata": {},
   "outputs": [],
   "source": [
    "#c.upload_csv_to_snowflake(dataframe= df1_new,tablename='LIBRARY_BOOKS')"
   ]
  },
  {
   "cell_type": "code",
   "execution_count": 10,
   "metadata": {},
   "outputs": [
    {
     "name": "stdout",
     "output_type": "stream",
     "text": [
      "Table STUDENT_ISSUED_BOOKS is created\n"
     ]
    }
   ],
   "source": [
    "#schema = 'ISSUANCE_ID INT AUTOINCREMENT PRIMARY KEY, STUDENT_ID INT, BOOK_ID VARCHAR, ISSUANCE_DATE DATE, RETURN_DATE DATE'\n",
    "#c.create_table('STUDENT_ISSUED_BOOKS',schema = schema)"
   ]
  },
  {
   "cell_type": "code",
   "execution_count": 4,
   "metadata": {},
   "outputs": [
    {
     "name": "stdout",
     "output_type": "stream",
     "text": [
      "Table BOOK_AVAILABILITY_STATUS is created\n"
     ]
    }
   ],
   "source": [
    "#schema='BOOK_ID VARCHAR, BOOK_NAME VARCHAR,TRANSACTION_DATE DATE, QUANTITY_AVAILABLE INT'\n",
    "#c.create_table(tablename= 'BOOK_AVAILABILITY_STATUS',schema= schema)"
   ]
  },
  {
   "cell_type": "code",
   "execution_count": 6,
   "metadata": {},
   "outputs": [
    {
     "name": "stdout",
     "output_type": "stream",
     "text": [
      "Table STUDENT is created\n"
     ]
    }
   ],
   "source": [
    "#schema='STUDENT_ID INT AUTOINCREMENT PRIMARY KEY,ROLL_NO INT, FIRST_NAME VARCHAR,LAST_NAME VARCHAR, STANDARD INT,STANDARD_YEAR VARCHAR'\n",
    "#c.create_table(tablename= 'STUDENT',schema= schema)"
   ]
  },
  {
   "cell_type": "code",
   "execution_count": 12,
   "metadata": {},
   "outputs": [
    {
     "name": "stdout",
     "output_type": "stream",
     "text": [
      "Values are inserted in STUDENT\n"
     ]
    }
   ],
   "source": [
    "#s.student_creation(19,'Michael','Ballack',9,'2014')"
   ]
  },
  {
   "cell_type": "code",
   "execution_count": null,
   "metadata": {},
   "outputs": [],
   "source": [
    "#schema ='ROLL_NO INT, STANDARD INT, STANDARD_YEAR VARCHAR,BOOK_NAME VARCHAR, BOOK_ID VARCHAR, ISSUE_DATE DATE, RETURN_DATE DATE'\n",
    "#c.create_table(tablename= 'BOOK_TRANSACTIONS',schema = schema)"
   ]
  },
  {
   "cell_type": "code",
   "execution_count": 15,
   "metadata": {},
   "outputs": [
    {
     "name": "stdout",
     "output_type": "stream",
     "text": [
      "Initial data replicated successfully.\n"
     ]
    }
   ],
   "source": [
    "#c.create_book_status_table()"
   ]
  },
  {
   "cell_type": "code",
   "execution_count": 5,
   "metadata": {},
   "outputs": [
    {
     "name": "stdout",
     "output_type": "stream",
     "text": [
      "Book returned successfully\n",
      "Record moved to Book Return History table successfully\n",
      "Student deleted from student issued books table successfully\n"
     ]
    }
   ],
   "source": [
    "#l.book_returned(102,'746aa8b2-e959-4795-8190-73bdd1faa357',10)"
   ]
  },
  {
   "cell_type": "code",
   "execution_count": 5,
   "metadata": {},
   "outputs": [
    {
     "name": "stdout",
     "output_type": "stream",
     "text": [
      "Values are inserted in BOOK_RETURN_HISTORY\n"
     ]
    }
   ],
   "source": [
    "#c.insert_value_in_table('BOOK_RETURN_HISTORY',STUDENT_ID=201,BOOK_ID='08aec4ba-5823-41c7-9fcd-ac8ace56413d',BOOK_RETURN_DATE='2024-06-05')"
   ]
  },
  {
   "cell_type": "code",
   "execution_count": null,
   "metadata": {},
   "outputs": [],
   "source": []
  }
 ],
 "metadata": {
  "kernelspec": {
   "display_name": "oops_venv",
   "language": "python",
   "name": "python3"
  },
  "language_info": {
   "codemirror_mode": {
    "name": "ipython",
    "version": 3
   },
   "file_extension": ".py",
   "mimetype": "text/x-python",
   "name": "python",
   "nbconvert_exporter": "python",
   "pygments_lexer": "ipython3",
   "version": "3.12.2"
  }
 },
 "nbformat": 4,
 "nbformat_minor": 2
}
